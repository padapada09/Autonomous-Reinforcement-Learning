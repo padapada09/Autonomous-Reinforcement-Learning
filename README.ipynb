{
 "cells": [
  {
   "cell_type": "markdown",
   "metadata": {},
   "source": [
    "<h1 style=\"color: #2b74af; font-size: 40px; background: lightBlue; padding: 15px; border-radius: 15px; box-shadow: 4px 4px 4px dark\">Librerías</h1>"
   ]
  },
  {
   "cell_type": "code",
   "execution_count": 1,
   "metadata": {},
   "outputs": [],
   "source": [
    "import numpy as np\n",
    "import random"
   ]
  },
  {
   "cell_type": "markdown",
   "metadata": {},
   "source": [
    "<h1 style=\"color: #2b74af; font-size: 40px; background: lightBlue; padding: 15px; border-radius: 15px; box-shadow: 4px 4px 4px dark\">Funciones útiles</h1>"
   ]
  },
  {
   "cell_type": "code",
   "execution_count": 2,
   "metadata": {},
   "outputs": [],
   "source": [
    "def lastProm(array, amount):\n",
    "    suma = 0\n",
    "    last = array.__len__()\n",
    "    if last == 0:\n",
    "        return 0\n",
    "    if last < amount:\n",
    "        for x in array:\n",
    "            suma += x\n",
    "        return suma/(last)\n",
    "    for x in range(amount):\n",
    "        suma += array[last-(x+1)]\n",
    "    return suma/amount"
   ]
  },
  {
   "cell_type": "markdown",
   "metadata": {},
   "source": [
    "<h1 style=\"color: #2b74af; font-size: 40px; background: lightBlue; padding: 15px; border-radius: 15px; box-shadow: 4px 4px 4px dark\">Clase</h1>"
   ]
  },
  {
   "cell_type": "markdown",
   "metadata": {},
   "source": [
    "<div class=\"alert alert-block alert-info\"><h1>La clase toma como parametros posibles:</h1>\n",
    "    \n",
    "- Estados en los que existirá el agente\n",
    "- Tamaño de discretización (de cada estado por separado)\n",
    "- Hiperparametros epsilon, alpha, gamma.\n",
    "- \"epsilonDecay\" y \"alphaDecay\" son los epsilon y alpha finales. (Una vez que el agente logra la recompenza objetivo)\n",
    "- La recompenza esperada\n",
    "- \"continues\" es una variable booleana para indicar si el ambiente del agente es de estados continuos o discretos.\n",
    "- Los valores minimos y máximos de cada estado del agente.\n",
    "- \"auto\" es para determinar si el agente debe setear sus hiperparametros (alpha, epsilon, adecay y edecay) de manera automatica (actualmente los selecciona al azar).\n",
    "\n",
    "Además, la clase tiene un arreglo \"*memory*\" en la que puede almacenar el puntaje obtenido con una configuración automática de hiperparametros. (Mi idea es posteriormente usar esto para empezar a aplicar metodos de optimización de hiperparametros).\n",
    "\n",
    "En la inicialización o construcción de la clase, el agente crea una matriz \"policy\" con todos valores cero.\n",
    "</div>"
   ]
  },
  {
   "cell_type": "code",
   "execution_count": 3,
   "metadata": {},
   "outputs": [],
   "source": [
    "class Agent:\n",
    "\n",
    "    def __init__(self,state,posibleActions,sampleSize = [],epsilon = 0,alpha = 0,gamma = 0,epsilonDecay = 0,\n",
    "        alphaDecay = 0, expectedReturn = 0, continues = False, minimum = [], maximum = [], auto = False):\n",
    "        self.state = state\n",
    "        self.actions = posibleActions\n",
    "        self.sampleSize = sampleSize\n",
    "        self.epsilon = 1 - epsilon\n",
    "        self.alpha = alpha\n",
    "        self.gamma = gamma\n",
    "        self.epsilonDecay = epsilonDecay\n",
    "        self.alphaDecay = alphaDecay\n",
    "        self.policy = self.initializePolicy(state,posibleActions,sampleSize)\n",
    "        self.continues = continues\n",
    "        self.minimum = minimum\n",
    "        self.maximum = maximum\n",
    "        self.record = []\n",
    "        self.expectedReturn = expectedReturn\n",
    "        self.alphaOriginal = alpha\n",
    "        self.epsilonOriginal = epsilon\n",
    "        if (auto):\n",
    "            self.memory = []\n",
    "            self.alpha = random.random()*1\n",
    "            self.alphaOriginal = self.alpha\n",
    "            self.epsilon = random.random()*1\n",
    "            self.epsilonOriginal = self.epsilon\n",
    "            self.epsilonDecay = random.random()*1\n",
    "            self.alphaDecay = random.random()*1"
   ]
  },
  {
   "cell_type": "markdown",
   "metadata": {},
   "source": [
    "<div class=\"alert alert-block alert-info\"> \n",
    "    <h1>Función \"decide\"</h1>\n",
    "    \n",
    "   La clase tiene un metodo en el que tomará decisiones dado el estado en el que se encuentre al tomar la decisión (no toma parametros). Para la exploración y explotación se utiliza una función \"*softmax*\": $$P(a)= \\frac{e^{\\alpha Q(a|s)}} {\\sum_{i=0}^{i=j} e^{\\alpha Q(i|s)}} \\iff j = posibeActions$$\n",
    "   \n",
    "   Esta función lo que hace es tomar un vector y procesarlo de manera que su modulo sea igual a uno. Luego según que tan grande sea cada parametro del vector, le damos una probabilidad a cada acción de que suceda. El parametro alpha se usa para poder variar el nivel de exploración y/o explotación. Notese que cuando alpha es igual a cero, todos los valores del vector tendrán igual magnitud, es decir, tendremos exploración pura. Por el contrario, a medida que alpha se hace mas grande, conseguimos tender más a la explotación.\n",
    "   \n",
    "   Por último, en el algoritmo se le resta a Q(a|s) el max[Q(s)] para normalizar la función y evitar problemas de overflow.\n",
    "   </div>"
   ]
  },
  {
   "cell_type": "code",
   "execution_count": 4,
   "metadata": {},
   "outputs": [],
   "source": [
    "    def decide(self):\n",
    "        inputs = self.policy[tuple(self.state)]\n",
    "        probability0 = np.exp((inputs-np.amax(inputs))*self.epsilon) / float(sum(np.exp((inputs-np.amax(inputs))*self.epsilon)))\n",
    "        probability1 = np.exp((inputs-np.amax(inputs))*self.epsilon) / float(sum(np.exp((inputs-np.amax(inputs))*self.epsilon)))\n",
    "        probability1.sort()\n",
    "        chance = 0\n",
    "        posibility = random.random()\n",
    "        for action in probability1:\n",
    "            chance += action\n",
    "            if chance > posibility:\n",
    "                return np.where(probability0 == action)[0][0]"
   ]
  },
  {
   "cell_type": "markdown",
   "metadata": {},
   "source": [
    "<div class=\"alert alert-block alert-info\"> \n",
    "    <h1>Función \"update\"</h1>\n",
    "    \n",
    "   Llamada cada vez que se termina un episodio, en la función update, el agente guarda en su memoria (\"record\") la recompenza obtenida en el episodio (pasada como parametro para la función), y actualiza los valores de alpha y epsilon según que tan cerca este de la recompenza esperada final. La actualización es lineal.\n",
    "   </div>"
   ]
  },
  {
   "cell_type": "code",
   "execution_count": 5,
   "metadata": {},
   "outputs": [],
   "source": [
    "    def update(self,reward):\n",
    "        if self.record.__len__() < 1:\n",
    "            self.rewardOffset = abs(reward - self.expectedReturn)\n",
    "        self.record.append(reward)\n",
    "        newAlpha = self.alphaOriginal * self.alphaDecay * (1/pow(self.alphaDecay, abs(lastProm(self.record, 200) - self.expectedReturn) / self.rewardOffset))\n",
    "        newEpsilon = self.epsilonOriginal * self.epsilonDecay * (1/pow(self.epsilonDecay, abs(lastProm(self.record, 200) - self.expectedReturn) / self.rewardOffset))\n",
    "        self.alpha = newAlpha\n",
    "        self.epsilon = newEpsilon\n"
   ]
  },
  {
   "cell_type": "markdown",
   "metadata": {},
   "source": [
    "<div class=\"alert alert-block alert-info\"> \n",
    "    <h1>Función \"optimize\"</h1>\n",
    "    \n",
    "   Por el momento la función \"optimize\" simplemente selecciona al azar valores para los hiperparametros principales, y guarda en \"memory\" una recompenza promedio lograda con una configuración de hiperparametros especifica. Esta función, la imagino sin mayores cambios cuando se aplique optimización Bayesiana, pero seleccionando los nuevos valores según el grado de incertidumbre que tuvieramos en el modelo construido (Todavía el algoritmo no hace ningun modelo, pero es como imagino debería seguir el funcionamiento de la optimización).\n",
    "   </div>"
   ]
  },
  {
   "cell_type": "code",
   "execution_count": 6,
   "metadata": {},
   "outputs": [],
   "source": [
    "    def optimize(self, reward):\n",
    "        self.memory.append([reward, self.alphaOriginal, self.epsilonOriginal, self.alphaDecay, self.epsilonDecay])\n",
    "        self.alpha = random.random()\n",
    "        self.alphaOriginal = self.alpha\n",
    "        self.epsilon = random.random()\n",
    "        self.epsilonOriginal = self.epsilon\n",
    "        self.alphaDecay = random.random()\n",
    "        self.epsilonDecay = random.random()\n",
    "        self.policy = self.initializePolicy(self.state,self.actions,self.sampleSize)\n",
    "        self.record = []"
   ]
  },
  {
   "cell_type": "markdown",
   "metadata": {},
   "source": [
    "<div class=\"alert alert-block alert-info\"> \n",
    "    <h1>Función \"learn\"</h1>\n",
    "    \n",
    "   En esta función se aplica Q-learning, actualizando los valores de la matriz según dicho algoritmo:\n",
    "   $$Q(s_{t},a_{t}) = (1- \\alpha) \\cdot Q(s_{t},a_{t}) + \\alpha \\cdot [r_{t} + \\gamma \\cdot max_{Q(s_{t},a)}] $$\n",
    "   \n",
    "   Mi intención es aplicar \"n-step\" bootstraping para que pueda ser una parametro de configuración mas. Y también poder aplicar conceptos de redes neuronales para que el algoritmo también pueda usar el modelo de \"*Deep Q Learning*\".\n",
    "   </div>"
   ]
  },
  {
   "cell_type": "code",
   "execution_count": 7,
   "metadata": {},
   "outputs": [],
   "source": [
    "    def learn(self, newState, actionTaken, reward):\n",
    "        if self.continues:\n",
    "            newStatef = self.discretize(newState)\n",
    "        fullState = self.state\n",
    "        fullState.append(actionTaken)\n",
    "        old_value = self.policy[tuple(fullState)]\n",
    "        new_value = (1 - self.alpha) * old_value + self.alpha * (reward + self.gamma*(max(self.policy[tuple(newStatef)])))\n",
    "        self.policy[tuple(fullState)] = new_value\n",
    "        self.setState(newState)"
   ]
  },
  {
   "cell_type": "markdown",
   "metadata": {},
   "source": [
    "<div class=\"alert alert-block alert-info\"> \n",
    "    <h1>Función \"initializePolicy\"</h1>\n",
    "    \n",
    "   Función en la que inicializo la politica del agente dado un array de estados posibles, un array de acciones posibles y un tamaño de muestreo en los que son divididos los estados. Lo mas interesante de la función, y tambien del algoritmo en su conjunto, es que toma arrays de multiples dimensiones, por lo que el agente se puede adaptar con relativa facilidad a ambientes en los que tenga que atender diversas cantidades de estados (Siendo limite la capacidad de procesamiento disponible).\n",
    "   </div>"
   ]
  },
  {
   "cell_type": "code",
   "execution_count": 8,
   "metadata": {},
   "outputs": [],
   "source": [
    "    def initializePolicy(self,states,actions,sampleSize):\n",
    "        array = []\n",
    "        for state in range(states.__len__()):\n",
    "            array.append(sampleSize[state])\n",
    "        array.append(actions.__len__())\n",
    "        policy = np.zeros(array)\n",
    "        return policy"
   ]
  },
  {
   "cell_type": "markdown",
   "metadata": {},
   "source": [
    "<div class=\"alert alert-block alert-info\"> \n",
    "    <h1>Función \"discretize\"</h1>\n",
    "    \n",
    "   Para poder adaptarse a ambientes continuos, el agente tiene una función con la que discretize el estado dado por el entorno, y lo mapea según el muestreo, y los valores máximos y mínimos, especificados en la construcción del agente.\n",
    "   </div>"
   ]
  },
  {
   "cell_type": "code",
   "execution_count": 9,
   "metadata": {},
   "outputs": [],
   "source": [
    "    def discretize(self, states):\n",
    "        j = -1\n",
    "        discreteState = []\n",
    "        for state in states:\n",
    "            j += 1\n",
    "            increment = (abs(self.minimum[j])+self.maximum[j])/self.sampleSize[j]\n",
    "            for i in range(0, self.sampleSize[j]):\n",
    "                if state < increment*(i+1) + self.minimum[j]:\n",
    "                    discreteState.append(i)\n",
    "                    break\n",
    "        return discreteState"
   ]
  },
  {
   "cell_type": "markdown",
   "metadata": {},
   "source": [
    "<div class=\"alert alert-block alert-info\"> \n",
    "    <h1>Función \"setState\"</h1>\n",
    "    \n",
    "   Una función para poder actualizar el estado en el que e encuentra el agente.\n",
    "   \n",
    "   Me pareció mas interesante que el agente puede moverse de estados y decidir posteriormente según el estado en el que se encuentre, que pasar el estado actual a la función \"decide\".\n",
    "   </div>"
   ]
  },
  {
   "cell_type": "code",
   "execution_count": 10,
   "metadata": {},
   "outputs": [],
   "source": [
    "    def setState(self,state):\n",
    "        if self.continues :\n",
    "            self.state = self.discretize(state)\n",
    "        if not(self.continues):\n",
    "            self.state = state"
   ]
  },
  {
   "cell_type": "code",
   "execution_count": 16,
   "metadata": {},
   "outputs": [
    {
     "name": "stdout",
     "output_type": "stream",
     "text": [
      "Intent: 9 - Episode: 999 (alpha = 0.22 || epsilon = 0.18)  -> Score: 199.65\r"
     ]
    },
    {
     "data": {
      "image/png": "[encoded data removed]",
      "text/plain": [
       "<Figure size 432x288 with 1 Axes>"
      ]
     },
     "metadata": {
      "needs_background": "light"
     },
     "output_type": "display_data"
    }
   ],
   "source": [
    "import learning\n",
    "import gym\n",
    "import matplotlib.pyplot as plt\n",
    "import numpy as np\n",
    "import random\n",
    "\n",
    "env = gym.make('CartPole-v0')\n",
    "\n",
    "states = [0,0,0,0]\n",
    "actions = [0,0]\n",
    "\n",
    "maximum = [2.5, 4, 0.8, 4]\n",
    "minimum = [-2.5, -4, -0.8,-4]\n",
    "\n",
    "episodes = 1000\n",
    "Intents = []\n",
    "\n",
    "for metaEpisode in range(10):\n",
    "    \n",
    "    rewards = []\n",
    "    \n",
    "    cart = learning.Agent(\n",
    "        state = states,\n",
    "        sampleSize = [10,1,30,30],\n",
    "        posibleActions = actions,\n",
    "        epsilon = 0.149862682,\n",
    "        alpha = 0.818792154792417,\n",
    "        gamma = 1,\n",
    "        epsilonDecay = 1.18220248060764,\n",
    "        alphaDecay = 0.268458061557817,\n",
    "        expectedReturn = 200,\n",
    "        continues = True,\n",
    "        maximum = maximum,\n",
    "        minimum = minimum\n",
    "        )\n",
    "\n",
    "    for episode in range(episodes):\n",
    "\n",
    "        observation = env.reset()\n",
    "        episodeReward = 0\n",
    "        cart.setState(observation)\n",
    "\n",
    "        for step in range(200):\n",
    "                \n",
    "            action = cart.decide()\n",
    "            \n",
    "            observation, reward, done, info = env.step(action)\n",
    "\n",
    "            episodeReward += reward\n",
    "\n",
    "            cart.learn(observation,action,reward)\n",
    "\n",
    "            if done:\n",
    "                rewards.append(episodeReward)\n",
    "                cart.update(episodeReward)\n",
    "                print (\"Intent: \" + str(metaEpisode) + \" - Episode: \" + str(episode) + \" (alpha = \"+ str(round(cart.alpha,2)) +\" || epsilon = \" + str(round(cart.epsilon,2)) + \")  -> Score: \" + str(round(lastProm(cart.record,100),2)), end=\"\\r\")\n",
    "                episodeReward = 0\n",
    "                break\n",
    "\n",
    "    Intents.append(rewards)\n",
    "\n",
    "plt.plot(np.mean(Intents, axis=0))\n",
    "plt.show()"
   ]
  },
  {
   "cell_type": "code",
   "execution_count": null,
   "metadata": {},
   "outputs": [],
   "source": []
  }
 ],
 "metadata": {
  "kernelspec": {
   "display_name": "Python 3",
   "language": "python",
   "name": "python3"
  },
  "language_info": {
   "codemirror_mode": {
    "name": "ipython",
    "version": 3
   },
   "file_extension": ".py",
   "mimetype": "text/x-python",
   "name": "python",
   "nbconvert_exporter": "python",
   "pygments_lexer": "ipython3",
   "version": "3.7.3"
  }
 },
 "nbformat": 4,
 "nbformat_minor": 2
}
